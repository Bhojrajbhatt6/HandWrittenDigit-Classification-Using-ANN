{
 "cells": [
  {
   "cell_type": "code",
   "execution_count": null,
   "id": "1c21d41a",
   "metadata": {},
   "outputs": [],
   "source": [
    "import seaborn as sns\n",
    "import matplotlib.pyplot as plt\n",
    "import tensorflow\n",
    "from tensorflow import keras\n",
    "from tensorflow.keras.layers import Dense,Flatten\n",
    "import keras"
   ]
  },
  {
   "cell_type": "code",
   "execution_count": null,
   "id": "2630af83",
   "metadata": {},
   "outputs": [],
   "source": [
    "from keras.datasets import mnist\n",
    "\n",
    "(X_train, y_train), (X_test, y_test) = mnist.load_data()"
   ]
  },
  {
   "cell_type": "code",
   "execution_count": 3,
   "id": "e61c8529",
   "metadata": {},
   "outputs": [
    {
     "data": {
      "text/plain": [
       "array([[[0, 0, 0, ..., 0, 0, 0],\n",
       "        [0, 0, 0, ..., 0, 0, 0],\n",
       "        [0, 0, 0, ..., 0, 0, 0],\n",
       "        ...,\n",
       "        [0, 0, 0, ..., 0, 0, 0],\n",
       "        [0, 0, 0, ..., 0, 0, 0],\n",
       "        [0, 0, 0, ..., 0, 0, 0]],\n",
       "\n",
       "       [[0, 0, 0, ..., 0, 0, 0],\n",
       "        [0, 0, 0, ..., 0, 0, 0],\n",
       "        [0, 0, 0, ..., 0, 0, 0],\n",
       "        ...,\n",
       "        [0, 0, 0, ..., 0, 0, 0],\n",
       "        [0, 0, 0, ..., 0, 0, 0],\n",
       "        [0, 0, 0, ..., 0, 0, 0]],\n",
       "\n",
       "       [[0, 0, 0, ..., 0, 0, 0],\n",
       "        [0, 0, 0, ..., 0, 0, 0],\n",
       "        [0, 0, 0, ..., 0, 0, 0],\n",
       "        ...,\n",
       "        [0, 0, 0, ..., 0, 0, 0],\n",
       "        [0, 0, 0, ..., 0, 0, 0],\n",
       "        [0, 0, 0, ..., 0, 0, 0]],\n",
       "\n",
       "       ...,\n",
       "\n",
       "       [[0, 0, 0, ..., 0, 0, 0],\n",
       "        [0, 0, 0, ..., 0, 0, 0],\n",
       "        [0, 0, 0, ..., 0, 0, 0],\n",
       "        ...,\n",
       "        [0, 0, 0, ..., 0, 0, 0],\n",
       "        [0, 0, 0, ..., 0, 0, 0],\n",
       "        [0, 0, 0, ..., 0, 0, 0]],\n",
       "\n",
       "       [[0, 0, 0, ..., 0, 0, 0],\n",
       "        [0, 0, 0, ..., 0, 0, 0],\n",
       "        [0, 0, 0, ..., 0, 0, 0],\n",
       "        ...,\n",
       "        [0, 0, 0, ..., 0, 0, 0],\n",
       "        [0, 0, 0, ..., 0, 0, 0],\n",
       "        [0, 0, 0, ..., 0, 0, 0]],\n",
       "\n",
       "       [[0, 0, 0, ..., 0, 0, 0],\n",
       "        [0, 0, 0, ..., 0, 0, 0],\n",
       "        [0, 0, 0, ..., 0, 0, 0],\n",
       "        ...,\n",
       "        [0, 0, 0, ..., 0, 0, 0],\n",
       "        [0, 0, 0, ..., 0, 0, 0],\n",
       "        [0, 0, 0, ..., 0, 0, 0]]], dtype=uint8)"
      ]
     },
     "execution_count": 3,
     "metadata": {},
     "output_type": "execute_result"
    }
   ],
   "source": [
    "X_train"
   ]
  },
  {
   "cell_type": "code",
   "execution_count": 4,
   "id": "ca08e4a3",
   "metadata": {},
   "outputs": [
    {
     "data": {
      "text/plain": [
       "<matplotlib.image.AxesImage at 0x158f91310>"
      ]
     },
     "execution_count": 4,
     "metadata": {},
     "output_type": "execute_result"
    },
    {
     "data": {
      "image/png": "[encoded data removed]",
      "text/plain": [
       "<Figure size 640x480 with 1 Axes>"
      ]
     },
     "metadata": {},
     "output_type": "display_data"
    }
   ],
   "source": [
    "plt.imshow(X_train[0])"
   ]
  },
  {
   "cell_type": "code",
   "execution_count": 5,
   "id": "63a27e78",
   "metadata": {},
   "outputs": [],
   "source": [
    "# convert the value of the array between 0-1 , where the value is 0-255"
   ]
  },
  {
   "cell_type": "code",
   "execution_count": 6,
   "id": "6536a0f8",
   "metadata": {},
   "outputs": [],
   "source": [
    "X_train = X_train/255\n",
    "X_test = X_test/255"
   ]
  },
  {
   "cell_type": "code",
   "execution_count": 7,
   "id": "200e586b",
   "metadata": {},
   "outputs": [
    {
     "data": {
      "text/plain": [
       "array([[[0., 0., 0., ..., 0., 0., 0.],\n",
       "        [0., 0., 0., ..., 0., 0., 0.],\n",
       "        [0., 0., 0., ..., 0., 0., 0.],\n",
       "        ...,\n",
       "        [0., 0., 0., ..., 0., 0., 0.],\n",
       "        [0., 0., 0., ..., 0., 0., 0.],\n",
       "        [0., 0., 0., ..., 0., 0., 0.]],\n",
       "\n",
       "       [[0., 0., 0., ..., 0., 0., 0.],\n",
       "        [0., 0., 0., ..., 0., 0., 0.],\n",
       "        [0., 0., 0., ..., 0., 0., 0.],\n",
       "        ...,\n",
       "        [0., 0., 0., ..., 0., 0., 0.],\n",
       "        [0., 0., 0., ..., 0., 0., 0.],\n",
       "        [0., 0., 0., ..., 0., 0., 0.]],\n",
       "\n",
       "       [[0., 0., 0., ..., 0., 0., 0.],\n",
       "        [0., 0., 0., ..., 0., 0., 0.],\n",
       "        [0., 0., 0., ..., 0., 0., 0.],\n",
       "        ...,\n",
       "        [0., 0., 0., ..., 0., 0., 0.],\n",
       "        [0., 0., 0., ..., 0., 0., 0.],\n",
       "        [0., 0., 0., ..., 0., 0., 0.]],\n",
       "\n",
       "       ...,\n",
       "\n",
       "       [[0., 0., 0., ..., 0., 0., 0.],\n",
       "        [0., 0., 0., ..., 0., 0., 0.],\n",
       "        [0., 0., 0., ..., 0., 0., 0.],\n",
       "        ...,\n",
       "        [0., 0., 0., ..., 0., 0., 0.],\n",
       "        [0., 0., 0., ..., 0., 0., 0.],\n",
       "        [0., 0., 0., ..., 0., 0., 0.]],\n",
       "\n",
       "       [[0., 0., 0., ..., 0., 0., 0.],\n",
       "        [0., 0., 0., ..., 0., 0., 0.],\n",
       "        [0., 0., 0., ..., 0., 0., 0.],\n",
       "        ...,\n",
       "        [0., 0., 0., ..., 0., 0., 0.],\n",
       "        [0., 0., 0., ..., 0., 0., 0.],\n",
       "        [0., 0., 0., ..., 0., 0., 0.]],\n",
       "\n",
       "       [[0., 0., 0., ..., 0., 0., 0.],\n",
       "        [0., 0., 0., ..., 0., 0., 0.],\n",
       "        [0., 0., 0., ..., 0., 0., 0.],\n",
       "        ...,\n",
       "        [0., 0., 0., ..., 0., 0., 0.],\n",
       "        [0., 0., 0., ..., 0., 0., 0.],\n",
       "        [0., 0., 0., ..., 0., 0., 0.]]])"
      ]
     },
     "execution_count": 7,
     "metadata": {},
     "output_type": "execute_result"
    }
   ],
   "source": [
    "X_train"
   ]
  },
  {
   "cell_type": "code",
   "execution_count": 8,
   "id": "dcb44d64",
   "metadata": {},
   "outputs": [],
   "source": [
    "# import the model\n",
    "from tensorflow.keras import Sequential\n",
    "model = Sequential()"
   ]
  },
  {
   "cell_type": "code",
   "execution_count": 9,
   "id": "fab132af",
   "metadata": {},
   "outputs": [],
   "source": [
    "model.add(Flatten(input_shape = (28,28)))\n",
    "model.add(Dense(128,activation = 'relu'))\n",
    "model.add(Dense(10, activation = 'softmax')) # The softmax activation function is commonly used in the output layer of a neural network for multi-class classification problems"
   ]
  },
  {
   "cell_type": "code",
   "execution_count": 10,
   "id": "510b7128",
   "metadata": {},
   "outputs": [
    {
     "data": {
      "text/plain": [
       "<bound method Model.summary of <keras.src.engine.sequential.Sequential object at 0x158fb2a10>>"
      ]
     },
     "execution_count": 10,
     "metadata": {},
     "output_type": "execute_result"
    }
   ],
   "source": [
    "model.summary"
   ]
  },
  {
   "cell_type": "code",
   "execution_count": 11,
   "id": "f0635718",
   "metadata": {},
   "outputs": [],
   "source": [
    "# compile the model"
   ]
  },
  {
   "cell_type": "code",
   "execution_count": 12,
   "id": "48d34bd5",
   "metadata": {},
   "outputs": [],
   "source": [
    "model.compile(loss = 'sparse_categorical_crossentropy',optimizer = 'Adam', metrics =['accuracy'])"
   ]
  },
  {
   "cell_type": "code",
   "execution_count": 13,
   "id": "3c365f69",
   "metadata": {},
   "outputs": [
    {
     "name": "stdout",
     "output_type": "stream",
     "text": [
      "Epoch 1/20\n",
      "1500/1500 [==============================] - 1s 626us/step - loss: 0.2862 - accuracy: 0.9185 - val_loss: 0.1547 - val_accuracy: 0.9540\n",
      "Epoch 2/20\n",
      "1500/1500 [==============================] - 1s 577us/step - loss: 0.1239 - accuracy: 0.9637 - val_loss: 0.1190 - val_accuracy: 0.9666\n",
      "Epoch 3/20\n",
      "1500/1500 [==============================] - 1s 579us/step - loss: 0.0863 - accuracy: 0.9744 - val_loss: 0.0972 - val_accuracy: 0.9716\n",
      "Epoch 4/20\n",
      "1500/1500 [==============================] - 1s 575us/step - loss: 0.0631 - accuracy: 0.9816 - val_loss: 0.0887 - val_accuracy: 0.9728\n",
      "Epoch 5/20\n",
      "1500/1500 [==============================] - 1s 577us/step - loss: 0.0484 - accuracy: 0.9855 - val_loss: 0.0956 - val_accuracy: 0.9721\n",
      "Epoch 6/20\n",
      "1500/1500 [==============================] - 1s 571us/step - loss: 0.0385 - accuracy: 0.9884 - val_loss: 0.0857 - val_accuracy: 0.9750\n",
      "Epoch 7/20\n",
      "1500/1500 [==============================] - 1s 580us/step - loss: 0.0309 - accuracy: 0.9906 - val_loss: 0.0865 - val_accuracy: 0.9753\n",
      "Epoch 8/20\n",
      "1500/1500 [==============================] - 1s 579us/step - loss: 0.0236 - accuracy: 0.9930 - val_loss: 0.0920 - val_accuracy: 0.9756\n",
      "Epoch 9/20\n",
      "1500/1500 [==============================] - 1s 579us/step - loss: 0.0206 - accuracy: 0.9939 - val_loss: 0.0955 - val_accuracy: 0.9753\n",
      "Epoch 10/20\n",
      "1500/1500 [==============================] - 1s 576us/step - loss: 0.0158 - accuracy: 0.9954 - val_loss: 0.0967 - val_accuracy: 0.9748\n",
      "Epoch 11/20\n",
      "1500/1500 [==============================] - 1s 585us/step - loss: 0.0134 - accuracy: 0.9961 - val_loss: 0.0978 - val_accuracy: 0.9768\n",
      "Epoch 12/20\n",
      "1500/1500 [==============================] - 1s 581us/step - loss: 0.0105 - accuracy: 0.9970 - val_loss: 0.1029 - val_accuracy: 0.9751\n",
      "Epoch 13/20\n",
      "1500/1500 [==============================] - 1s 586us/step - loss: 0.0103 - accuracy: 0.9969 - val_loss: 0.1236 - val_accuracy: 0.9701\n",
      "Epoch 14/20\n",
      "1500/1500 [==============================] - 1s 577us/step - loss: 0.0098 - accuracy: 0.9969 - val_loss: 0.1128 - val_accuracy: 0.9750\n",
      "Epoch 15/20\n",
      "1500/1500 [==============================] - 1s 579us/step - loss: 0.0080 - accuracy: 0.9976 - val_loss: 0.1090 - val_accuracy: 0.9744\n",
      "Epoch 16/20\n",
      "1500/1500 [==============================] - 1s 579us/step - loss: 0.0063 - accuracy: 0.9983 - val_loss: 0.1109 - val_accuracy: 0.9764\n",
      "Epoch 17/20\n",
      "1500/1500 [==============================] - 1s 584us/step - loss: 0.0071 - accuracy: 0.9975 - val_loss: 0.1134 - val_accuracy: 0.9768\n",
      "Epoch 18/20\n",
      "1500/1500 [==============================] - 1s 585us/step - loss: 0.0050 - accuracy: 0.9987 - val_loss: 0.1353 - val_accuracy: 0.9739\n",
      "Epoch 19/20\n",
      "1500/1500 [==============================] - 1s 588us/step - loss: 0.0064 - accuracy: 0.9981 - val_loss: 0.1199 - val_accuracy: 0.9772\n",
      "Epoch 20/20\n",
      "1500/1500 [==============================] - 1s 590us/step - loss: 0.0044 - accuracy: 0.9988 - val_loss: 0.1479 - val_accuracy: 0.9722\n"
     ]
    }
   ],
   "source": [
    "history = model.fit(X_train,y_train, epochs = 20, validation_split = 0.2)"
   ]
  },
  {
   "cell_type": "code",
   "execution_count": 14,
   "id": "5a36d507",
   "metadata": {},
   "outputs": [
    {
     "name": "stdout",
     "output_type": "stream",
     "text": [
      "313/313 [==============================] - 0s 298us/step\n"
     ]
    }
   ],
   "source": [
    "y_prob = model.predict(X_test)"
   ]
  },
  {
   "cell_type": "code",
   "execution_count": 15,
   "id": "687257fd",
   "metadata": {},
   "outputs": [
    {
     "data": {
      "text/plain": [
       "array([[1.2448670e-13, 4.2963229e-14, 3.4226753e-07, ..., 9.9996102e-01,\n",
       "        2.2116867e-08, 8.9046895e-11],\n",
       "       [4.2103179e-15, 4.1803193e-11, 1.0000000e+00, ..., 3.3179434e-29,\n",
       "        1.2613231e-10, 3.2424182e-22],\n",
       "       [1.2107489e-11, 9.9999475e-01, 3.2134540e-06, ..., 3.3704225e-07,\n",
       "        1.6767709e-06, 1.3848996e-10],\n",
       "       ...,\n",
       "       [1.4796010e-24, 3.8829654e-20, 1.0071531e-19, ..., 2.9054450e-13,\n",
       "        1.4800334e-12, 2.0395743e-09],\n",
       "       [2.6654559e-19, 7.7421601e-22, 2.4152249e-18, ..., 1.4971301e-21,\n",
       "        4.3458184e-10, 1.0608302e-22],\n",
       "       [8.1967134e-11, 3.4224150e-23, 3.9781673e-15, ..., 3.3649079e-25,\n",
       "        9.7764295e-18, 8.3372390e-21]], dtype=float32)"
      ]
     },
     "execution_count": 15,
     "metadata": {},
     "output_type": "execute_result"
    }
   ],
   "source": [
    "y_prob"
   ]
  },
  {
   "cell_type": "markdown",
   "id": "f80fcbb1",
   "metadata": {},
   "source": [
    "## Certainly! In machine learning, the argmax function is used to find the input value that maximizes a given function. It's often used in the context of determining the class or category with the highest probability in classification problems.\n",
    "\n",
    "Let's say you have a model that predicts the probability distribution of different classes for a given input. The output might look something like this:\n",
    "\n",
    "\\[ P(\\text{Class 1}), P(\\text{Class 2}), \\ldots, P(\\text{Class n}) \\]\n",
    "\n",
    "The argmax function would return the class index that has the highest probability. Mathematically, it is represented as:\n",
    "\n",
    "\\[ \\text{argmax}(P(\\text{Class 1}), P(\\text{Class 2}), \\ldots, P(\\text{Class n})) \\]\n",
    "\n",
    "For example, let's say you have a model that predicts whether an image contains a cat, a dog, or neither. After passing an image through the model, you get the probability distribution:\n",
    "\n",
    "\\[ P(\\text{Cat}) = 0.2, \\quad P(\\text{Dog}) = 0.7, \\quad P(\\text{Neither}) = 0.1 \\]\n",
    "\n",
    "The argmax function in this case would return the index corresponding to the class with the highest probability, which is \"Dog\" in this example.\n",
    "\n",
    "So, \\[ \\text{argmax}(0.2, 0.7, 0.1) = \\text{Index of Dog} \\]\n",
    "\n",
    "In this case, the model predicts that the image most likely contains a dog."
   ]
  },
  {
   "cell_type": "code",
   "execution_count": 16,
   "id": "50fb41fc",
   "metadata": {},
   "outputs": [],
   "source": [
    "y_pred = y_prob.argmax(axis = 1)"
   ]
  },
  {
   "cell_type": "code",
   "execution_count": 17,
   "id": "4ab3804a",
   "metadata": {},
   "outputs": [
    {
     "data": {
      "text/plain": [
       "array([7, 2, 1, ..., 4, 5, 6])"
      ]
     },
     "execution_count": 17,
     "metadata": {},
     "output_type": "execute_result"
    }
   ],
   "source": [
    "y_pred"
   ]
  },
  {
   "cell_type": "code",
   "execution_count": 18,
   "id": "675c1cef",
   "metadata": {},
   "outputs": [
    {
     "data": {
      "text/plain": [
       "array([7, 2, 1, ..., 4, 5, 6], dtype=uint8)"
      ]
     },
     "execution_count": 18,
     "metadata": {},
     "output_type": "execute_result"
    }
   ],
   "source": [
    "y_test"
   ]
  },
  {
   "cell_type": "code",
   "execution_count": 19,
   "id": "83adca10",
   "metadata": {},
   "outputs": [],
   "source": [
    "from sklearn.metrics import accuracy_score"
   ]
  },
  {
   "cell_type": "code",
   "execution_count": 20,
   "id": "d10bf10f",
   "metadata": {},
   "outputs": [],
   "source": [
    "accuracy = accuracy_score(y_test,y_pred)"
   ]
  },
  {
   "cell_type": "code",
   "execution_count": 21,
   "id": "8abfb868",
   "metadata": {},
   "outputs": [
    {
     "data": {
      "text/plain": [
       "0.9754"
      ]
     },
     "execution_count": 21,
     "metadata": {},
     "output_type": "execute_result"
    }
   ],
   "source": [
    "accuracy"
   ]
  },
  {
   "cell_type": "code",
   "execution_count": 22,
   "id": "e802cce8",
   "metadata": {},
   "outputs": [],
   "source": [
    "# our model is 98% accurate."
   ]
  },
  {
   "cell_type": "code",
   "execution_count": 23,
   "id": "151edc34",
   "metadata": {},
   "outputs": [],
   "source": [
    "# representing the accuracy and loss in plot"
   ]
  },
  {
   "cell_type": "code",
   "execution_count": 25,
   "id": "bff5cdf9",
   "metadata": {},
   "outputs": [
    {
     "data": {
      "text/plain": [
       "[<matplotlib.lines.Line2D at 0x174223c90>]"
      ]
     },
     "execution_count": 25,
     "metadata": {},
     "output_type": "execute_result"
    },
    {
     "data": {
      "image/png": "[encoded data removed]",
      "text/plain": [
       "<Figure size 640x480 with 1 Axes>"
      ]
     },
     "metadata": {},
     "output_type": "display_data"
    }
   ],
   "source": [
    "plt.plot(history.history['loss'])\n",
    "plt.plot(history.history['val_loss'])"
   ]
  },
  {
   "cell_type": "code",
   "execution_count": 26,
   "id": "245e8034",
   "metadata": {},
   "outputs": [
    {
     "data": {
      "text/plain": [
       "[<matplotlib.lines.Line2D at 0x17426efd0>]"
      ]
     },
     "execution_count": 26,
     "metadata": {},
     "output_type": "execute_result"
    },
    {
     "data": {
      "image/png": "[encoded data removed]",
      "text/plain": [
       "<Figure size 640x480 with 1 Axes>"
      ]
     },
     "metadata": {},
     "output_type": "display_data"
    }
   ],
   "source": [
    "plt.plot(history.history['accuracy'])\n",
    "plt.plot(history.history['val_accuracy'])"
   ]
  },
  {
   "cell_type": "code",
   "execution_count": 28,
   "id": "2d162e2a",
   "metadata": {},
   "outputs": [
    {
     "data": {
      "text/plain": [
       "<matplotlib.image.AxesImage at 0x1742e9a50>"
      ]
     },
     "execution_count": 28,
     "metadata": {},
     "output_type": "execute_result"
    },
    {
     "data": {
      "image/png": "[encoded data removed]",
      "text/plain": [
       "<Figure size 640x480 with 1 Axes>"
      ]
     },
     "metadata": {},
     "output_type": "display_data"
    }
   ],
   "source": [
    "plt.imshow(X_test[0])"
   ]
  },
  {
   "cell_type": "code",
   "execution_count": 35,
   "id": "aa70351e",
   "metadata": {},
   "outputs": [
    {
     "name": "stdout",
     "output_type": "stream",
     "text": [
      "1/1 [==============================] - 0s 13ms/step\n"
     ]
    },
    {
     "data": {
      "text/plain": [
       "array([7])"
      ]
     },
     "execution_count": 35,
     "metadata": {},
     "output_type": "execute_result"
    }
   ],
   "source": [
    "model.predict(X_test[0].reshape(1,28,28)).argmax(axis = 1)"
   ]
  },
  {
   "cell_type": "code",
   "execution_count": 39,
   "id": "4049676b",
   "metadata": {},
   "outputs": [],
   "source": [
    "## Its predicting right."
   ]
  },
  {
   "cell_type": "code",
   "execution_count": null,
   "id": "97dce57f",
   "metadata": {},
   "outputs": [],
   "source": []
  }
 ],
 "metadata": {
  "kernelspec": {
   "display_name": "Python 3 (ipykernel)",
   "language": "python",
   "name": "python3"
  },
  "language_info": {
   "codemirror_mode": {
    "name": "ipython",
    "version": 3
   },
   "file_extension": ".py",
   "mimetype": "text/x-python",
   "name": "python",
   "nbconvert_exporter": "python",
   "pygments_lexer": "ipython3",
   "version": "3.11.4"
  }
 },
 "nbformat": 4,
 "nbformat_minor": 5
}
